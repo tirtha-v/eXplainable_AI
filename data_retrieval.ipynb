{
 "cells": [
  {
   "cell_type": "code",
   "execution_count": null,
   "id": "bbf67378",
   "metadata": {},
   "outputs": [],
   "source": [
    "from ocpmodels.datasets import LmdbDataset\n",
    "import numpy as np\n",
    "import tensorflow as tf\n",
    "from tqdm import tqdm\n",
    "import lmdb\n",
    "import pickle\n",
    "import pandas as pd\n",
    "from data_processing import extract_post_hoc_data, extract_last_frame, get_material_data\n",
    "from utils import pyg2atoms, SiteAnalyzer\n",
    "from descriptor import (\n",
    "    get_local_e, get_ads_e, get_slab_e, get_eff_coord, get_center_coord, \n",
    "    get_sum_atomic_adsorbate, get_num_adsorbate, get_sites, get_density, \n",
    "    get_H_f, get_band_gap, get_space_groups, get_miller_indices, get_adsorption_energy\n",
    ")"
   ]
  },
  {
   "cell_type": "code",
   "execution_count": null,
   "id": "b049b20a",
   "metadata": {},
   "outputs": [],
   "source": [
    "# Download the lmdb file from OC20 repository\n",
    "lmdb_path = \"/path/to/lmdb/file\"\n",
    "data = LmdbDataset({'src': lmdb_path})"
   ]
  },
  {
   "cell_type": "code",
   "execution_count": null,
   "id": "a5eb3b23",
   "metadata": {},
   "outputs": [],
   "source": [
    "# Extracting systems with only O, H and C1 category adsorbates for Post-hoc analysis \n",
    "req_data = extract_post_hoc_data(data)\n",
    "\n",
    "# Extracting last frame id (fid) from every system id (sid)\n",
    "last_frame = extract_last_frame(req_data)\n",
    "\n",
    "# Use extract_sr_data function to retrieve data objects with H category adsorbates for Symbolic Regression"
   ]
  },
  {
   "cell_type": "code",
   "execution_count": null,
   "id": "f10ea50b",
   "metadata": {},
   "outputs": [],
   "source": [
    "# Saving the last frame data in form of Lmdb format\n",
    "db_path = '/enter/path/to/save/new/lmdb/file'\n",
    "\n",
    "db = lmdb.open(\n",
    "    db_path,\n",
    "    map_size=1099511627776 * 2,\n",
    "    subdir=False,\n",
    "    meminit=False,\n",
    "    map_async=True,\n",
    ")\n",
    "\n",
    "key = 0\n",
    "for j, (sid, fid) in tqdm(enumerate(last_frame.items()), total=len(last_frame)):\n",
    "    for i, item in tqdm(enumerate(req_data), total=len(req_data)):\n",
    "        if item['sid'] == sid and item['fid'] == fid:\n",
    "            data_object = item\n",
    "            txn = db.begin(write=True)\n",
    "            txn.put(f\"{key}\".encode(\"ascii\"), pickle.dumps(data_object))\n",
    "            txn.commit()\n",
    "            db.sync()\n",
    "            key += 1\n",
    "db.close()"
   ]
  },
  {
   "cell_type": "code",
   "execution_count": null,
   "id": "28369393",
   "metadata": {},
   "outputs": [],
   "source": [
    "new_data = LmdbDataset({'src':db_path})"
   ]
  },
  {
   "cell_type": "code",
   "execution_count": null,
   "id": "3cb4188a",
   "metadata": {},
   "outputs": [],
   "source": [
    "# Download mapping and reference energy pickle files from OC20 github repository\n",
    "mapping_path = '/path/to/mapping/pickle/file.pkl' # Path to the pickle file containing the system ID to Materials Project ID mapping\n",
    "ref_path = '/path/to/reference_energy/pickle/file.pkl'  # Path to the pickle file containing reference energy\n",
    "# Generate api key on Materials Project database\n",
    "summary, electronic, mp_sid_dict  = get_material_data(mapping_path, api_key)  # Summary and Electronic structure data from the Materials Project API\n",
    "\n",
    "\n",
    "# Calculate descriptors for all systems in new_data\n",
    "local_e = get_local_e(new_data)\n",
    "ads_e = get_ads_e(new_data)\n",
    "slab_e = get_slab_e(new_data)\n",
    "eff_coord = get_eff_coord(new_data)\n",
    "center_coord = get_center_coord(new_data)\n",
    "sum_atomic_adsorbate = get_sum_atomic_adsorbate(new_data)\n",
    "num_adsorbates = get_num_adsorbate(new_data)\n",
    "sites = get_sites(new_data)\n",
    "density = get_density(summary, mp_sid_dict)\n",
    "formation_eng = get_H_f(summary, mp_sid_dict)\n",
    "band_gap = get_band_gap(electronic, mp_sid_dict)\n",
    "space_groups = get_space_groups(summary, mp_sid_dict)\n",
    "miller_indices = get_miller_indices(mapping_path, new_data)\n",
    "adsorption_energy = get_adsorption_energy(new_data, ref_path)"
   ]
  },
  {
   "cell_type": "code",
   "execution_count": null,
   "id": "c41d008f",
   "metadata": {},
   "outputs": [],
   "source": [
    "# Create a list of dictionaries of all descriptors\n",
    "descriptor_list = [local_e, ads_e,slab_e, eff_coord, center_coord, sum_atomic_adsorbate, num_adsorbates, sites,density, formation_eng, band_gap,\n",
    "                   space_groups, miller_indices, adsorption_energy]\n",
    "df = pd.DataFrame(descriptor_list)\n"
   ]
  },
  {
   "cell_type": "code",
   "execution_count": null,
   "id": "1d7ad86b",
   "metadata": {},
   "outputs": [],
   "source": [
    "df_new = df.dropna(axis=1)\n",
    "final_dataset = df_new.T.rename(columns={\n",
    "    0: 'local_e', 1: 'adsorbate_e', 2: 'slab_e', 3: 'effective_coord', 4: 'center_coord', 5: 'sites',\n",
    "    6: 'band_gap', 7: 'formation_eng', 8: 'density', 9: 'space_group_no', 10: 'Miller_index',\n",
    "    11: 'Sum_atomic_adsorbate', 12: 'num_adsorbates', 13: 'mean_atomic_bulk', 14: 'Eads'\n",
    "})\n"
   ]
  }
 ],
 "metadata": {
  "kernelspec": {
   "display_name": "Python 3",
   "language": "python",
   "name": "python3"
  },
  "language_info": {
   "codemirror_mode": {
    "name": "ipython",
    "version": 3
   },
   "file_extension": ".py",
   "mimetype": "text/x-python",
   "name": "python",
   "nbconvert_exporter": "python",
   "pygments_lexer": "ipython3",
   "version": "3.8.5"
  }
 },
 "nbformat": 4,
 "nbformat_minor": 5
}
